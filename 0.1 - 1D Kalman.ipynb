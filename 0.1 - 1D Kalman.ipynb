{
 "cells": [
  {
   "cell_type": "markdown",
   "metadata": {},
   "source": [
    "Let's practice making a simple Kalman filter that can filter noisy sensor measurements!\n",
    "\n",
    "We'll pretend to be a robot using some noisy sensor to sense its location. The true position of our robot will be given by $x$. The measurements, $z$, are Gaussian random values centered about the actual position $x$ with a variance given by $R$."
   ]
  },
  {
   "cell_type": "code",
   "execution_count": null,
   "metadata": {
    "collapsed": false
   },
   "outputs": [],
   "source": [
    "%matplotlib notebook\n",
    "\n",
    "import matplotlib\n",
    "import numpy as np\n",
    "import matplotlib.pyplot as plt"
   ]
  },
  {
   "cell_type": "markdown",
   "metadata": {},
   "source": [
    "Setup the initial parameters."
   ]
  },
  {
   "cell_type": "code",
   "execution_count": null,
   "metadata": {
    "collapsed": false
   },
   "outputs": [],
   "source": [
    "#setup initial parameters\n",
    "n_iter = 100\n",
    "sz = (n_iter,)\t#Size of array\n",
    "x0 = -0.5\t#Initial position value\n",
    "move = True #Enable or disable random movement\n",
    "u_const = 0.1\n",
    "\n",
    "R = 0.1**2 # Estimate of measurement variance\n",
    "Q = 1.0 #Process variance\n",
    "T = 0.5 #control input generation variance\n",
    "U = 0.3 #control input variance\n",
    "\n",
    "#Create the arrays\n",
    "x = np.zeros(sz)\t# array of actual position values\n",
    "u = np.zeros(sz)    # array of control inputs\n",
    "z = np.zeros(sz)\t# measurement array\n",
    "\n",
    "\n",
    "xhat = np.zeros(sz)\t# a posteri estimate of x\n",
    "Vhat = np.zeros(sz)\t# a posteri error estimate (variance)\n",
    "#xhatminus = np.zeros(sz)\t# a priori estimate of x\n",
    "#Vhatminus = np.zeros(sz)\t# a priori error estimate (variance)\n",
    "\n",
    "K = np.zeros(sz)\t# Kalman gain or blending factor\n",
    "\n",
    "# initial guess\n",
    "xhat[0] = 0.0\n",
    "#P[0] = 1.0\n",
    "Vhat[0] = R\n",
    "\n",
    "# initial position\n",
    "x[0] = x0"
   ]
  },
  {
   "cell_type": "markdown",
   "metadata": {},
   "source": [
    "Recursively apply the Kalman filter algorithm"
   ]
  },
  {
   "cell_type": "code",
   "execution_count": null,
   "metadata": {
    "collapsed": false
   },
   "outputs": [],
   "source": [
    "def kalman_filter(mu_minus, var_minus, u, z):\n",
    "    # calculate the predicted belief\n",
    "    mu_hat = mu_minus + u\n",
    "    var_hat = var_minus + R\n",
    "    \n",
    "    # calculate the Kalman gain\n",
    "    K = var_minus/(var_minus + Q)\n",
    "    print (K)\n",
    "    # update the belief\n",
    "    mu_t = mu_hat + K*(z - mu_hat)\n",
    "    var_t = (1 - K) * var_hat\n",
    "    \n",
    "    return mu_t, var_t\n",
    "    \n",
    "    \n",
    "for k in range(1, n_iter):\n",
    "    # generate control inputs\n",
    "    if move is True:\n",
    "        #u[k] = np.random.randn()*T # random-walk movement\n",
    "        #u[k] = u_const # constant movement\n",
    "        u[k] = np.sin(np.radians(k*7))/10 # sinusoidal movement\n",
    "    \n",
    "    # move the robot and add in noise\n",
    "    x[k] = x[k-1] + u[k] + np.random.randn()*0.1\n",
    "    \n",
    "    # generate a sensor measurement about x\n",
    "    z[k] = np.random.randn()*R + x[k]\n",
    "    \n",
    "    #apply the kalman filter\n",
    "    xhat[k], Vhat[k] = kalman_filter(xhat[k-1], Vhat[k-1] + Q, u[k], z[k])\n",
    "    print(\"%1.3f, %1.3f\" %(xhat[k], Vhat[k]))\n",
    "\n",
    "fig = plt.figure()\n",
    "plt.plot(z, 'k+', label='noisy measurements')\n",
    "plt.plot(xhat, 'b-', label='a posteri estimate')\n",
    "plt.plot(xhat + Vhat, 'g-', label = 'a posteri error estimate')\n",
    "plt.plot(xhat - Vhat, 'g-')\n",
    "plt.plot(x, 'r-', label='actual position')\n",
    "#plt.axhline(x, color='g', label = 'truth value')\n",
    "plt.legend()\n",
    "plt.title('Estimate vs. iteration step', fontweight='bold')\n",
    "plt.xlabel('Iteration')\n",
    "plt.ylabel('Position')"
   ]
  },
  {
   "cell_type": "code",
   "execution_count": null,
   "metadata": {
    "collapsed": true
   },
   "outputs": [],
   "source": []
  }
 ],
 "metadata": {
  "kernelspec": {
   "display_name": "Python [default]",
   "language": "python",
   "name": "python2"
  },
  "language_info": {
   "codemirror_mode": {
    "name": "ipython",
    "version": 2
   },
   "file_extension": ".py",
   "mimetype": "text/x-python",
   "name": "python",
   "nbconvert_exporter": "python",
   "pygments_lexer": "ipython2",
   "version": "2.7.12"
  }
 },
 "nbformat": 4,
 "nbformat_minor": 0
}
